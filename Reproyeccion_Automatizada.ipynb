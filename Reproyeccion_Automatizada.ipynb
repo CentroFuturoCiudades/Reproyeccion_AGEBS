{
 "cells": [
  {
   "cell_type": "markdown",
   "id": "7ee87459",
   "metadata": {},
   "source": [
    "## Librerías"
   ]
  },
  {
   "cell_type": "code",
   "execution_count": null,
   "id": "ce30651a",
   "metadata": {},
   "outputs": [],
   "source": [
    "import os\n",
    "from reproyeccion_agebs import *\n",
    "import geopandas as gpd\n",
    "\n",
    "import warnings\n",
    "warnings.filterwarnings('ignore')"
   ]
  },
  {
   "cell_type": "markdown",
   "id": "91243422",
   "metadata": {},
   "source": [
    "## Lectura de Datos"
   ]
  },
  {
   "cell_type": "code",
   "execution_count": null,
   "id": "946611f7",
   "metadata": {},
   "outputs": [],
   "source": [
    "directorio = r\"Subsets\\Censo1990\"\n",
    "\n",
    "rutas = [os.path.join(directorio, archivo) for archivo in os.listdir(directorio) if archivo.endswith('.shp')]\n",
    "\n",
    "ciudades = [rutas[x].split('\\\\')[-1].split('.')[0] for x in range(len(rutas))]"
   ]
  },
  {
   "cell_type": "code",
   "execution_count": null,
   "id": "8858bd10",
   "metadata": {},
   "outputs": [],
   "source": [
    "ciudades_m = ['Acapulco',\n",
    " 'Aguascalientes',\n",
    " 'Cancún',\n",
    " 'Celaya',\n",
    " 'Chihuahua',\n",
    " #'Ciudad de México',\n",
    " 'Ciudad Juárez',\n",
    " 'Cuernavaca',\n",
    " 'Culiacán',\n",
    " 'Durango',\n",
    " 'Guadalajara',\n",
    " 'Hermosillo',\n",
    " 'Irapuato',\n",
    " 'La Laguna',\n",
    " 'León',\n",
    " 'Matamoros',\n",
    " 'Mexicali',\n",
    " 'Monterrey',\n",
    " 'Morelia',\n",
    " 'Mérida',\n",
    " 'Oaxaca',\n",
    " 'Pachuca',\n",
    " 'Puebla_Tlaxcala',\n",
    " 'Querétaro',\n",
    " 'Reynosa',\n",
    " 'Saltillo',\n",
    " 'San Luis Potosí',\n",
    " 'Tampico',\n",
    " 'Tijuana',\n",
    " 'Tlaxcala_Apizaco',\n",
    " 'Toluca',\n",
    " 'Tuxtla Gutiérrez',\n",
    " 'Veracruz',\n",
    " 'Villahermosa',\n",
    " 'Xalapa']"
   ]
  },
  {
   "cell_type": "markdown",
   "id": "646ebe71",
   "metadata": {},
   "source": [
    "## Automatización"
   ]
  },
  {
   "cell_type": "code",
   "execution_count": null,
   "id": "a2cdfdef",
   "metadata": {},
   "outputs": [],
   "source": [
    "directorio_1990 = r\"Subsets\\Censo1990\"\n",
    "directorio_2020 = r\"Subsets\\Censo2020\"\n",
    "directorio_morado = r\"MORADO/Censo2020\"\n",
    "\n",
    "for i in range(len(ciudades)):\n",
    "    ruta_1990  = os.path.join(directorio_1990, ciudades[i] + \".shp\")\n",
    "    ruta_2020  = os.path.join(directorio_2020, ciudades[i] + \".shp\")\n",
    "    ruta_morado  = os.path.join(directorio_morado, ciudades_m[i] + \".shp\")\n",
    "    poligonos_1990 = gpd.read_file(ruta_1990)\n",
    "    poligonos_2020 = gpd.read_file(ruta_2020)\n",
    "    morados_2020 = gpd.read_file(ruta_morado)\n",
    "    \n",
    "    morados_2020 = morados_2020.loc[morados_2020.P1990 == 'Si']\n",
    "    poligonos_1990 = gpd.overlay(poligonos_1990, morados_2020, how='difference') #diferencia_2020(morados_2020, poligonos_1990)\n",
    "    \n",
    "    poligonos_interseccion2020 = interseccion2020(poligonos_1990, poligonos_2020)\n",
    "    combinaciones_gdf = combinaciones_vecinos(poligonos_interseccion2020)\n",
    "    correccion_1990 = reproyectar_poligonos(poligonos_1990, poligonos_2020, combinaciones_gdf)\n",
    "    \n",
    "    #correccion_1990 = gpd.GeoDataFrame(pd.concat([correccion_1990, morados_2020], ignore_index=True))\n",
    "    correccion_1990.to_file(f'FINALES_1990/{ciudades[i]}_1990.shp')\n",
    "    \n",
    "    plot_ageb(ciudades[i], poligonos_interseccion2020, poligonos_1990, correccion_1990)"
   ]
  }
 ],
 "metadata": {
  "kernelspec": {
   "display_name": "Python 3 (ipykernel)",
   "language": "python",
   "name": "python3"
  },
  "language_info": {
   "codemirror_mode": {
    "name": "ipython",
    "version": 3
   },
   "file_extension": ".py",
   "mimetype": "text/x-python",
   "name": "python",
   "nbconvert_exporter": "python",
   "pygments_lexer": "ipython3",
   "version": "3.11.5"
  }
 },
 "nbformat": 4,
 "nbformat_minor": 5
}
